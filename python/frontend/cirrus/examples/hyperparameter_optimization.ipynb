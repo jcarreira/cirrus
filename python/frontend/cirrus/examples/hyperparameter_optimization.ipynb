{
 "cells": [
  {
   "cell_type": "markdown",
   "metadata": {},
   "source": [
    "# Hyperparameter optimization\n",
    "---\n",
    "This notebook uses Cirrus to optimize the hyperparameters of a logistic regression model."
   ]
  },
  {
   "cell_type": "markdown",
   "metadata": {},
   "source": [
    "## Setup\n",
    "---"
   ]
  },
  {
   "cell_type": "code",
   "execution_count": null,
   "metadata": {},
   "outputs": [],
   "source": [
    "# To ease development, each time a cell is run, all modules will be reloaded.\n",
    "%load_ext autoreload\n",
    "%autoreload 2"
   ]
  },
  {
   "cell_type": "code",
   "execution_count": null,
   "metadata": {},
   "outputs": [],
   "source": [
    "import logging\n",
    "import sys\n",
    "import atexit"
   ]
  },
  {
   "cell_type": "code",
   "execution_count": null,
   "metadata": {},
   "outputs": [],
   "source": [
    "# Cirrus produces logs, but they will not show unless we add a handler that prints.\n",
    "from cirrus import utilities\n",
    "utilities.set_logging_handler()"
   ]
  },
  {
   "cell_type": "code",
   "execution_count": null,
   "metadata": {},
   "outputs": [],
   "source": [
    "from cirrus import instance, automate, lr, GridSearch"
   ]
  },
  {
   "cell_type": "markdown",
   "metadata": {},
   "source": [
    "## Instances, base task configuration, hyperparameters\n",
    "---"
   ]
  },
  {
   "cell_type": "markdown",
   "metadata": {},
   "source": [
    "First, we start some EC2 instances."
   ]
  },
  {
   "cell_type": "code",
   "execution_count": null,
   "metadata": {},
   "outputs": [],
   "source": [
    "NUM_INSTANCES = 2\n",
    "\n",
    "instances = []\n",
    "for i in range(NUM_INSTANCES):\n",
    "    inst = instance.Instance(\n",
    "        name=\"hyperparameter_example_instance_%d\" % i,\n",
    "        disk_size=32,\n",
    "        typ=\"m4.2xlarge\",\n",
    "        username=\"ubuntu\",\n",
    "        ami_owner_name=(\"self\", \"cirrus_server_image\")\n",
    "    )\n",
    "    inst.start()\n",
    "    instances.append(inst)"
   ]
  },
  {
   "cell_type": "markdown",
   "metadata": {},
   "source": [
    "Second, we define the base configuration for our machine learning task."
   ]
  },
  {
   "cell_type": "code",
   "execution_count": null,
   "metadata": {},
   "outputs": [],
   "source": [
    "base_task_config = {\n",
    "    \"n_workers\": 16,\n",
    "    \"n_ps\": 1,\n",
    "    \"dataset\": \"criteo-kaggle-19b\",\n",
    "    \"learning_rate\": 0.0001,\n",
    "    \"epsilon\": 0.0001,\n",
    "    \"progress_callback\": None,\n",
    "    \"train_set\": (0, 799),\n",
    "    \"test_set\": (800, 850),\n",
    "    \"minibatch_size\": 200,\n",
    "    \"model_bits\": 19,\n",
    "    \"opt_method\": \"adagrad\",\n",
    "    \"timeout\": 60,\n",
    "    \"lambda_size\": 192\n",
    "}"
   ]
  },
  {
   "cell_type": "markdown",
   "metadata": {},
   "source": [
    "Third, we identify our hyperparameters and their possible values."
   ]
  },
  {
   "cell_type": "code",
   "execution_count": null,
   "metadata": {},
   "outputs": [],
   "source": [
    "hyperparameter_names = [\n",
    "    \"n_workers\",\n",
    "    \"learning_rate\"\n",
    "]\n",
    "hyperparameter_values = [\n",
    "    [8, 16, 32],\n",
    "    [0.001, 0.01]\n",
    "]"
   ]
  },
  {
   "cell_type": "markdown",
   "metadata": {},
   "source": [
    "All of the above defines a hyperparameter optimization task, which consists of one machine learning task per assignment of values to the hyperparameters."
   ]
  },
  {
   "cell_type": "code",
   "execution_count": null,
   "metadata": {},
   "outputs": [],
   "source": [
    "search = GridSearch(\n",
    "    task=lr.LogisticRegression,\n",
    "    param_base=base_task_config,\n",
    "    hyper_vars=hyperparameter_names,\n",
    "    hyper_params=hyperparameter_values,\n",
    "    instances=instances\n",
    ")"
   ]
  },
  {
   "cell_type": "markdown",
   "metadata": {},
   "source": [
    "## Run\n",
    "---"
   ]
  },
  {
   "cell_type": "markdown",
   "metadata": {},
   "source": [
    "Next, we run our hyperparameter optimization task."
   ]
  },
  {
   "cell_type": "code",
   "execution_count": null,
   "metadata": {},
   "outputs": [],
   "source": [
    "search.run()"
   ]
  },
  {
   "cell_type": "markdown",
   "metadata": {},
   "source": [
    "Run this cell to see the present accuracy of experiment `I`."
   ]
  },
  {
   "cell_type": "code",
   "execution_count": null,
   "metadata": {},
   "outputs": [],
   "source": [
    "I = 0\n",
    "\n",
    "for line in search.cirrus_objs[I].ps.error_output().split(\"\\n\")[-20:]:\n",
    "    print(line)"
   ]
  },
  {
   "cell_type": "markdown",
   "metadata": {},
   "source": [
    "## Cleanup\n",
    "---"
   ]
  },
  {
   "cell_type": "markdown",
   "metadata": {},
   "source": [
    "When we're satisfied with the results, we kill our task."
   ]
  },
  {
   "cell_type": "code",
   "execution_count": null,
   "metadata": {},
   "outputs": [],
   "source": [
    "search.kill_all()"
   ]
  },
  {
   "cell_type": "markdown",
   "metadata": {},
   "source": [
    "We also need to terminate our instances in order to avoid continuing charges."
   ]
  },
  {
   "cell_type": "code",
   "execution_count": null,
   "metadata": {},
   "outputs": [],
   "source": [
    "for inst in instances:\n",
    "    inst.cleanup()"
   ]
  },
  {
   "cell_type": "markdown",
   "metadata": {},
   "source": [
    "If a cell errors, running this should clean up any resources that were created. After running this cell, the kernel will become unusable and need to be restarted."
   ]
  },
  {
   "cell_type": "code",
   "execution_count": null,
   "metadata": {},
   "outputs": [],
   "source": [
    "atexit._run_exitfuncs()"
   ]
  }
 ],
 "metadata": {
  "kernelspec": {
   "display_name": "Python 2",
   "language": "python",
   "name": "python2"
  },
  "language_info": {
   "codemirror_mode": {
    "name": "ipython",
    "version": 2
   },
   "file_extension": ".py",
   "mimetype": "text/x-python",
   "name": "python",
   "nbconvert_exporter": "python",
   "pygments_lexer": "ipython2",
   "version": "2.7.15"
  }
 },
 "nbformat": 4,
 "nbformat_minor": 2
}
