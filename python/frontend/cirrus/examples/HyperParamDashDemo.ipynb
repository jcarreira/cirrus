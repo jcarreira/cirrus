{
 "cells": [
  {
   "cell_type": "markdown",
   "metadata": {},
   "source": [
    "# Setup"
   ]
  },
  {
   "cell_type": "markdown",
   "metadata": {},
   "source": [
    "Turn on autoreload. All modules will be reloaded before excecuting each cell. Even objects that already exist will receive the new method defintions."
   ]
  },
  {
   "cell_type": "code",
   "execution_count": null,
   "metadata": {},
   "outputs": [],
   "source": [
    "# RUN THIS\n",
    "%load_ext autoreload\n",
    "%autoreload 2"
   ]
  },
  {
   "cell_type": "markdown",
   "metadata": {},
   "source": [
    "Import stuff."
   ]
  },
  {
   "cell_type": "code",
   "execution_count": null,
   "metadata": {},
   "outputs": [],
   "source": [
    "# RUN THIS\n",
    "import logging\n",
    "import sys\n",
    "import os\n",
    "import atexit\n",
    "\n",
    "from cirrus import automate, GridSearch, lr, graph, configuration"
   ]
  },
  {
   "cell_type": "markdown",
   "metadata": {},
   "source": [
    "Configure logging so that debug-level log messages are printed."
   ]
  },
  {
   "cell_type": "code",
   "execution_count": null,
   "metadata": {},
   "outputs": [],
   "source": [
    "# RUN THIS\n",
    "log = logging.getLogger(\"cirrus\")\n",
    "log.setLevel(logging.DEBUG)\n",
    "log.addHandler(logging.StreamHandler(sys.stdout))"
   ]
  },
  {
   "cell_type": "markdown",
   "metadata": {},
   "source": [
    "# Done on build environment change"
   ]
  },
  {
   "cell_type": "markdown",
   "metadata": {},
   "source": [
    "__Make build image__\n",
    "\n",
    "Create the build image, which is an AMI with the right environment set up for building Cirrus."
   ]
  },
  {
   "cell_type": "code",
   "execution_count": null,
   "metadata": {
    "scrolled": false
   },
   "outputs": [],
   "source": [
    "automate.make_build_image(\"cirrus_build_image\", True)"
   ]
  },
  {
   "cell_type": "markdown",
   "metadata": {},
   "source": [
    "# Done on release"
   ]
  },
  {
   "cell_type": "markdown",
   "metadata": {},
   "source": [
    "__Make executables__\n",
    "\n",
    "Build Cirrus and publish its executables.\n",
    "\n",
    "The `cirrus-public` S3 bucket that we publish to is owned by Joao. This cell will fail if run under any account other than his."
   ]
  },
  {
   "cell_type": "code",
   "execution_count": null,
   "metadata": {},
   "outputs": [],
   "source": [
    "# Start an instance to be used for making the executables.\n",
    "region = configuration.config()[\"aws\"][\"region\"]\n",
    "instance = automate.Instance(\"cirrus_instance_for_executables\", ami_name=\"cirrus_build_image\",\n",
    "    disk_size=32, typ=\"m5.2xlarge\", username=\"ec2-user\")\n",
    "instance.start()"
   ]
  },
  {
   "cell_type": "code",
   "execution_count": null,
   "metadata": {},
   "outputs": [],
   "source": [
    "# Make the executables.\n",
    "automate.make_executables(\"s3://cirrus-public/0/executables\", instance)"
   ]
  },
  {
   "cell_type": "code",
   "execution_count": null,
   "metadata": {},
   "outputs": [],
   "source": [
    "instance.public_ip()"
   ]
  },
  {
   "cell_type": "code",
   "execution_count": null,
   "metadata": {},
   "outputs": [],
   "source": [
    "# Terminate the instance.\n",
    "instance.cleanup()"
   ]
  },
  {
   "cell_type": "markdown",
   "metadata": {},
   "source": [
    "__Make server image__\n",
    "\n",
    "Create and publish the server image, which is an AMI that comes ready with Cirrus' executables and the proper execution environment. Each Cirrus installation will use this image to create instances in the user's AWS account."
   ]
  },
  {
   "cell_type": "code",
   "execution_count": null,
   "metadata": {},
   "outputs": [],
   "source": [
    "# RUN THIS\n",
    "# It is necessary to hardcode the Ubuntu 16.04 LTS AMI for each region we support.\n",
    "# Update using by searching \"us-west aws 16.04 ssd\" on https://cloud-images.ubuntu.com/locator/.\n",
    "UBUNTU_AMIS = {\n",
    "    \"us-west-1\": \"ami-0f5113ce7686689e9\",\n",
    "    \"us-west-2\": \"ami-01e0cf6e025c036e4\"\n",
    "}"
   ]
  },
  {
   "cell_type": "code",
   "execution_count": null,
   "metadata": {},
   "outputs": [],
   "source": [
    "# RUN THIS\n",
    "# Start an instance to be used for making the image.\n",
    "region = configuration.config()[\"aws\"][\"region\"]\n",
    "instance = automate.Instance(\"cirrus_instance_for_server_image\", ami_id=UBUNTU_AMIS[region],\n",
    "    disk_size=32, typ=\"m5.2xlarge\", username=\"ubuntu\")\n",
    "instance.start()"
   ]
  },
  {
   "cell_type": "code",
   "execution_count": null,
   "metadata": {
    "scrolled": true
   },
   "outputs": [],
   "source": [
    "# RUN THIS\n",
    "# Make the image.\n",
    "automate.make_server_image(\"cirrus_server_image\", \"s3://cirrus-public/0/executables\", instance)"
   ]
  },
  {
   "cell_type": "code",
   "execution_count": null,
   "metadata": {},
   "outputs": [],
   "source": [
    "# RUN THIS\n",
    "# Terminate the instance.\n",
    "instance.cleanup()"
   ]
  },
  {
   "cell_type": "markdown",
   "metadata": {},
   "source": [
    "__Make Lambda package__\n",
    "\n",
    "Create and publish the Lambda package, which is a ZIP archive containing the code to be executed by the worker Lambda function. Each Cirrus installation will use this package to create a Lambda function in the user's AWS account.\n",
    "\n",
    "The `cirrus-public` S3 bucket that we publish to is owned by Joao. This cell will fail if run under any account other than his."
   ]
  },
  {
   "cell_type": "code",
   "execution_count": null,
   "metadata": {},
   "outputs": [],
   "source": [
    "automate.make_lambda_package(\n",
    "    \"s3://cirrus-public/0/lambda-package\",\n",
    "    \"s3://cirrus-public/0/executables\"\n",
    ")"
   ]
  },
  {
   "cell_type": "markdown",
   "metadata": {},
   "source": [
    "# Done by user"
   ]
  },
  {
   "cell_type": "markdown",
   "metadata": {},
   "source": [
    "Make the lambda."
   ]
  },
  {
   "cell_type": "code",
   "execution_count": null,
   "metadata": {},
   "outputs": [],
   "source": [
    "automate.make_lambda(\"cirrus_worker\", \"s3://cirrus-public/0/lambda-package\", 100)"
   ]
  },
  {
   "cell_type": "markdown",
   "metadata": {},
   "source": [
    "Make the instance for the parameter servers."
   ]
  },
  {
   "cell_type": "code",
   "execution_count": null,
   "metadata": {},
   "outputs": [],
   "source": [
    "# RUN THIS\n",
    "instance_for_ps = automate.Instance(\n",
    "    \"cirrus_instance_for_ps\",\n",
    "    ami_name=\"cirrus_server_image\",\n",
    "    disk_size=32,\n",
    "    typ=\"m5.2xlarge\",\n",
    "    username=\"ubuntu\"\n",
    ")\n",
    "instance_for_ps.start()"
   ]
  },
  {
   "cell_type": "markdown",
   "metadata": {},
   "source": [
    "Define the logistic regression configuration."
   ]
  },
  {
   "cell_type": "code",
   "execution_count": null,
   "metadata": {},
   "outputs": [],
   "source": [
    "# RUN THIS\n",
    "basic_params = {\n",
    "    'n_workers': 16,\n",
    "    'n_ps': 1,\n",
    "    'lambda_size': 128,\n",
    "    'dataset': \"criteo-kaggle-19b\",\n",
    "    'learning_rate': 0.001,\n",
    "    'epsilon': 0.0001,\n",
    "    'progress_callback': None,\n",
    "    'timeout': 60,\n",
    "    'opt_method': 'adagrad',\n",
    "    'minibatch_size': 200,\n",
    "    'model_bits': 19,\n",
    "    'train_set': (0,6),\n",
    "    'test_set': (7,8)\n",
    "}"
   ]
  },
  {
   "cell_type": "markdown",
   "metadata": {},
   "source": [
    "Start a grid search."
   ]
  },
  {
   "cell_type": "code",
   "execution_count": null,
   "metadata": {
    "scrolled": true
   },
   "outputs": [],
   "source": [
    "# RUN THIS\n",
    "gs = GridSearch.GridSearch(\n",
    "    task=lr.LogisticRegression,\n",
    "    param_base=basic_params,\n",
    "    hyper_vars=[\"learning_rate\"],\n",
    "    hyper_params=[[0.001, 0.01, 0.1, 1]],\n",
    "    instances=[instance_for_ps]\n",
    ")\n",
    "gs.set_threads(1)\n",
    "gs.run(UI=False)"
   ]
  },
  {
   "cell_type": "code",
   "execution_count": null,
   "metadata": {},
   "outputs": [],
   "source": [
    "instance_for_ps.cleanup()"
   ]
  },
  {
   "cell_type": "markdown",
   "metadata": {},
   "source": [
    "View the progress of the experiment."
   ]
  },
  {
   "cell_type": "code",
   "execution_count": null,
   "metadata": {
    "scrolled": true
   },
   "outputs": [],
   "source": [
    "graph.display_dash()"
   ]
  },
  {
   "cell_type": "markdown",
   "metadata": {},
   "source": [
    "# Utilities"
   ]
  },
  {
   "cell_type": "markdown",
   "metadata": {},
   "source": [
    "Write the SSH key for the instance to a file."
   ]
  },
  {
   "cell_type": "code",
   "execution_count": null,
   "metadata": {},
   "outputs": [],
   "source": [
    "with open(\"key.pem\", \"w+\") as f:\n",
    "    f.write(instance_for_ps.private_key())"
   ]
  },
  {
   "cell_type": "markdown",
   "metadata": {},
   "source": [
    "View the instance's public IP address."
   ]
  },
  {
   "cell_type": "code",
   "execution_count": null,
   "metadata": {
    "scrolled": true
   },
   "outputs": [],
   "source": [
    "instance_for_ps.public_ip()"
   ]
  },
  {
   "cell_type": "markdown",
   "metadata": {},
   "source": [
    "View the output of the parameter server of the first experiment."
   ]
  },
  {
   "cell_type": "code",
   "execution_count": null,
   "metadata": {},
   "outputs": [],
   "source": [
    "# RUN THIS\n",
    "gs.cirrus_objs[0].ps.error_output()"
   ]
  },
  {
   "cell_type": "code",
   "execution_count": null,
   "metadata": {},
   "outputs": [],
   "source": [
    "# RUN THIS\n",
    "gs.cirrus_objs[0].ps.ps_output()"
   ]
  },
  {
   "cell_type": "code",
   "execution_count": null,
   "metadata": {},
   "outputs": [],
   "source": [
    "gs.kill_all()"
   ]
  },
  {
   "cell_type": "markdown",
   "metadata": {},
   "source": [
    "Create a new SSH connection to the instance. Useful when the connection times out while you're aware from the computer."
   ]
  },
  {
   "cell_type": "code",
   "execution_count": null,
   "metadata": {},
   "outputs": [],
   "source": [
    "instance_for_ps._connect_ssh()"
   ]
  },
  {
   "cell_type": "markdown",
   "metadata": {},
   "source": [
    "Do cleanup. Normally this is called on exit, but Jupyter does not reliably allow this to complete."
   ]
  },
  {
   "cell_type": "code",
   "execution_count": null,
   "metadata": {},
   "outputs": [],
   "source": [
    "atexit._run_exitfuncs()"
   ]
  },
  {
   "cell_type": "code",
   "execution_count": null,
   "metadata": {},
   "outputs": [],
   "source": []
  }
 ],
 "metadata": {
  "kernelspec": {
   "display_name": "Python 2",
   "language": "python",
   "name": "python2"
  },
  "language_info": {
   "codemirror_mode": {
    "name": "ipython",
    "version": 2
   },
   "file_extension": ".py",
   "mimetype": "text/x-python",
   "name": "python",
   "nbconvert_exporter": "python",
   "pygments_lexer": "ipython2",
   "version": "2.7.15"
  }
 },
 "nbformat": 4,
 "nbformat_minor": 2
}
