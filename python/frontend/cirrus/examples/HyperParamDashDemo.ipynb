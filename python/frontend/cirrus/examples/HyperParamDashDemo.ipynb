{
 "cells": [
  {
   "cell_type": "markdown",
   "metadata": {},
   "source": [
    "# Setup"
   ]
  },
  {
   "cell_type": "markdown",
   "metadata": {},
   "source": [
    "Turn on autoreload. All modules will be reloaded before excecuting each cell. Even objects that already exist will receive the new method defintions."
   ]
  },
  {
   "cell_type": "code",
   "execution_count": null,
   "metadata": {},
   "outputs": [],
   "source": [
    "%load_ext autoreload\n",
    "%autoreload 2"
   ]
  },
  {
   "cell_type": "markdown",
   "metadata": {},
   "source": [
    "Import stuff."
   ]
  },
  {
   "cell_type": "code",
   "execution_count": null,
   "metadata": {},
   "outputs": [],
   "source": [
    "import logging\n",
    "import sys\n",
    "import os\n",
    "import atexit\n",
    "\n",
    "sys.path.insert(0, os.path.join(os.getcwd(), \"..\"))\n",
    "from cirrus import automate, GridSearch, LogisticRegression, graph"
   ]
  },
  {
   "cell_type": "markdown",
   "metadata": {},
   "source": [
    "Configure logging so that debug-level log messages are printed."
   ]
  },
  {
   "cell_type": "code",
   "execution_count": null,
   "metadata": {},
   "outputs": [],
   "source": [
    "log = logging.getLogger(\"cirrus\")\n",
    "log.setLevel(logging.DEBUG)\n",
    "log.addHandler(logging.StreamHandler(sys.stdout))"
   ]
  },
  {
   "cell_type": "markdown",
   "metadata": {},
   "source": [
    "# Done on release"
   ]
  },
  {
   "cell_type": "markdown",
   "metadata": {},
   "source": [
    "Create the server image (and an instance for that purpose)."
   ]
  },
  {
   "cell_type": "code",
   "execution_count": null,
   "metadata": {},
   "outputs": [],
   "source": [
    "instance_for_server_image = automate.Instance(\n",
    "    \"cirrus_instance_for_server_image\",\n",
    "    ami_id=\"ami-3a674d5a\",\n",
    "    region=\"us-west-1\",\n",
    "    disk_size=32,\n",
    "    typ=\"m5.2xlarge\",\n",
    "    username=\"ec2-user\"\n",
    ")\n",
    "instance_for_server_image.start()\n",
    "automate.make_server_image(\n",
    "    \"cirrus_server_image\",\n",
    "    \"s3://cirrus-public/from_shared_vm/executables\",\n",
    "    instance_for_server_image\n",
    ")\n",
    "instance_for_server_image.cleanup()"
   ]
  },
  {
   "cell_type": "markdown",
   "metadata": {},
   "source": [
    "Make the lambda package."
   ]
  },
  {
   "cell_type": "code",
   "execution_count": null,
   "metadata": {},
   "outputs": [],
   "source": [
    "automate.make_lambda_package(\n",
    "    \"s3://cirrus-public/0/lambda-package\",\n",
    "    \"s3://cirrus-public/from_shared_vm/executables\"\n",
    ")"
   ]
  },
  {
   "cell_type": "markdown",
   "metadata": {},
   "source": [
    "# Done by user"
   ]
  },
  {
   "cell_type": "markdown",
   "metadata": {},
   "source": [
    "Make the lambda."
   ]
  },
  {
   "cell_type": "code",
   "execution_count": null,
   "metadata": {},
   "outputs": [],
   "source": [
    "automate.make_lambda(\"cirrus_worker\", \"s3://cirrus-public/0/lambda-package\", 15)"
   ]
  },
  {
   "cell_type": "markdown",
   "metadata": {},
   "source": [
    "Make the instance for the parameter servers."
   ]
  },
  {
   "cell_type": "code",
   "execution_count": null,
   "metadata": {},
   "outputs": [],
   "source": [
    "instance_for_ps = automate.Instance(\n",
    "    \"cirrus_instance_for_ps\",\n",
    "    ami_name=\"cirrus_server_image\",\n",
    "    region=\"us-west-1\",\n",
    "    disk_size=32,\n",
    "    typ=\"m5.2xlarge\",\n",
    "    username=\"ec2-user\"\n",
    ")\n",
    "instance_for_ps.start()"
   ]
  },
  {
   "cell_type": "markdown",
   "metadata": {},
   "source": [
    "Define the logistic regression configuration."
   ]
  },
  {
   "cell_type": "code",
   "execution_count": null,
   "metadata": {},
   "outputs": [],
   "source": [
    "basic_params = {\n",
    "    'n_workers': 2,\n",
    "    'n_ps': 1,\n",
    "    'lambda_size': 128,\n",
    "    'dataset': \"shea-criteo-kaggle-19b2\",\n",
    "    'learning_rate': 0.01,\n",
    "    'epsilon': 0.0001,\n",
    "    'progress_callback': None,\n",
    "    'timeout': 60,\n",
    "    'threshold_loss': 0,\n",
    "    'opt_method': 'adagrad',\n",
    "    'minibatch_size': 2,\n",
    "    'model_bits': 19,\n",
    "    'train_set': (0,6),\n",
    "    'test_set': (7,8)\n",
    "}"
   ]
  },
  {
   "cell_type": "markdown",
   "metadata": {},
   "source": [
    "Start a grid search."
   ]
  },
  {
   "cell_type": "code",
   "execution_count": null,
   "metadata": {
    "scrolled": true
   },
   "outputs": [],
   "source": [
    "gs = GridSearch(\n",
    "    task=LogisticRegression,\n",
    "    param_base=basic_params,\n",
    "    hyper_vars=[\"learning_rate\", \"lambda_size\"],\n",
    "    hyper_params=[[0.1, 0.2], [128]],\n",
    "    instances=[instance_for_ps]\n",
    ")\n",
    "gs.set_threads(2)\n",
    "gs.run(UI=True)"
   ]
  },
  {
   "cell_type": "markdown",
   "metadata": {},
   "source": [
    "View the progress of the experiment."
   ]
  },
  {
   "cell_type": "code",
   "execution_count": null,
   "metadata": {
    "scrolled": true
   },
   "outputs": [],
   "source": [
    "graph.display_dash()"
   ]
  },
  {
   "cell_type": "markdown",
   "metadata": {},
   "source": [
    "# Utilities"
   ]
  },
  {
   "cell_type": "markdown",
   "metadata": {},
   "source": [
    "Write the SSH key for the instance to a file."
   ]
  },
  {
   "cell_type": "code",
   "execution_count": null,
   "metadata": {},
   "outputs": [],
   "source": [
    "with open(\"key.pem\", \"w+\") as f:\n",
    "    f.write(instance_for_ps.private_key())"
   ]
  },
  {
   "cell_type": "markdown",
   "metadata": {},
   "source": [
    "View the instance's public IP address."
   ]
  },
  {
   "cell_type": "code",
   "execution_count": null,
   "metadata": {
    "scrolled": true
   },
   "outputs": [],
   "source": [
    "instance_for_ps.public_ip()"
   ]
  },
  {
   "cell_type": "markdown",
   "metadata": {},
   "source": [
    "View the output of the parameter server of the first experiment."
   ]
  },
  {
   "cell_type": "code",
   "execution_count": null,
   "metadata": {},
   "outputs": [],
   "source": [
    "gs.cirrus_objs[0].ps.error_output()"
   ]
  },
  {
   "cell_type": "code",
   "execution_count": null,
   "metadata": {},
   "outputs": [],
   "source": [
    "gs.cirrus_objs[1].ps.error_output()"
   ]
  },
  {
   "cell_type": "code",
   "execution_count": null,
   "metadata": {},
   "outputs": [],
   "source": [
    "gs.kill_all()"
   ]
  },
  {
   "cell_type": "markdown",
   "metadata": {},
   "source": [
    "Create a new SSH connection to the instance. Useful when the connection times out while you're aware from the computer."
   ]
  },
  {
   "cell_type": "code",
   "execution_count": null,
   "metadata": {},
   "outputs": [],
   "source": [
    "instance_for_ps._connect_ssh()"
   ]
  },
  {
   "cell_type": "markdown",
   "metadata": {},
   "source": [
    "Do cleanup. Normally this is called on exit, but Jupyter does not reliably allow this to complete."
   ]
  },
  {
   "cell_type": "code",
   "execution_count": null,
   "metadata": {},
   "outputs": [],
   "source": [
    "atexit._run_exitfuncs()"
   ]
  }
 ],
 "metadata": {
  "kernelspec": {
   "display_name": "Python 2",
   "language": "python",
   "name": "python2"
  },
  "language_info": {
   "codemirror_mode": {
    "name": "ipython",
    "version": 2
   },
   "file_extension": ".py",
   "mimetype": "text/x-python",
   "name": "python",
   "nbconvert_exporter": "python",
   "pygments_lexer": "ipython2",
   "version": "2.7.15"
  }
 },
 "nbformat": 4,
 "nbformat_minor": 2
}
