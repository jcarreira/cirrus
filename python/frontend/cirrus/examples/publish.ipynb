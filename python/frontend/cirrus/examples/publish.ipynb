{
 "cells": [
  {
   "cell_type": "markdown",
   "metadata": {},
   "source": [
    "# Publish\n",
    "---\n",
    "This notebook publishes resources needed by Cirrus users. It is mainly intended for use by Cirrus developers."
   ]
  },
  {
   "cell_type": "markdown",
   "metadata": {},
   "source": [
    "## Setup\n",
    "---"
   ]
  },
  {
   "cell_type": "code",
   "execution_count": 1,
   "metadata": {},
   "outputs": [],
   "source": [
    "# To ease development, each time a cell is run, all modules will be reloaded.\n",
    "%load_ext autoreload\n",
    "%autoreload 2"
   ]
  },
  {
   "cell_type": "code",
   "execution_count": 2,
   "metadata": {},
   "outputs": [],
   "source": [
    "import logging\n",
    "import sys\n",
    "import atexit"
   ]
  },
  {
   "cell_type": "code",
   "execution_count": 3,
   "metadata": {},
   "outputs": [
    {
     "name": "stdout",
     "output_type": "stream",
     "text": [
      "[     _initialize | ResourceManager] Initializing no-retries Lambda client.\n",
      "[     _initialize | ResourceManager] Initializing IAM resource.\n",
      "[     _initialize | ResourceManager] Initializing EC2 resource.\n"
     ]
    }
   ],
   "source": [
    "# Cirrus produces logs, but they will not show unless we add a handler that prints.\n",
    "from cirrus import utilities\n",
    "utilities.set_logging_handler()"
   ]
  },
  {
   "cell_type": "code",
   "execution_count": 4,
   "metadata": {},
   "outputs": [
    {
     "name": "stdout",
     "output_type": "stream",
     "text": [
      "[     _initialize | ResourceManager] Initializing Cloudwatch Logs client.\n",
      "[     _initialize | ResourceManager] Initializing S3 resource.\n",
      "[     _initialize | ResourceManager] Initializing STS client.\n"
     ]
    }
   ],
   "source": [
    "from cirrus import automate\n",
    "from cirrus import setup"
   ]
  },
  {
   "cell_type": "markdown",
   "metadata": {},
   "source": [
    "## Lambda package\n",
    "---\n",
    "When Cirrus users run the setup script, a serverless function (AWS Lambda function) is created. The Lambda package provides the code for it."
   ]
  },
  {
   "cell_type": "code",
   "execution_count": 5,
   "metadata": {},
   "outputs": [
    {
     "name": "stdout",
     "output_type": "stream",
     "text": [
      "[make_lambda_package |      MainThread] Initializing ZIP file.\n",
      "[make_lambda_package |      MainThread] Writing handler.\n",
      "[make_lambda_package |      MainThread] Initializing S3.\n",
      "[make_lambda_package |      MainThread] Downloading executable.\n",
      "[make_lambda_package |      MainThread] Writing executable.\n",
      "[make_lambda_package |      MainThread] Uploading package.\n",
      "[make_lambda_package |      MainThread] Waiting for changes to take effect.\n",
      "[make_lambda_package |      MainThread] Done.\n"
     ]
    }
   ],
   "source": [
    "automate.make_lambda_package(setup.PUBLISHED_BUILD + \"/lambda_package\", setup.PUBLISHED_BUILD + \"/executables\")"
   ]
  },
  {
   "cell_type": "code",
   "execution_count": null,
   "metadata": {},
   "outputs": [],
   "source": []
  }
 ],
 "metadata": {
  "kernelspec": {
   "display_name": "Python 2",
   "language": "python",
   "name": "python2"
  },
  "language_info": {
   "codemirror_mode": {
    "name": "ipython",
    "version": 2
   },
   "file_extension": ".py",
   "mimetype": "text/x-python",
   "name": "python",
   "nbconvert_exporter": "python",
   "pygments_lexer": "ipython2",
   "version": "2.7.15rc1"
  }
 },
 "nbformat": 4,
 "nbformat_minor": 2
}
