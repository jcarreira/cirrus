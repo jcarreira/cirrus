{
 "cells": [
  {
   "cell_type": "code",
   "execution_count": null,
   "metadata": {},
   "outputs": [],
   "source": [
    "# %load UIExample_softmax.py\n",
    "from context import cirrus\n",
    "\n",
    "urls = [\n",
    "        \"ec2-18-237-213-139.us-west-2.compute.amazonaws.com\",\n",
    "        \"ec2-18-237-31-107.us-west-2.compute.amazonaws.com\"]\n",
    "ips = [\n",
    "       \"172.31.14.190\",\n",
    "       \"172.31.6.212\"]\n",
    "\n",
    "data_bucket = 'cirrus-mnist'\n",
    "model = 'model_v1'\n",
    "\n",
    "basic_params = {\n",
    "    'n_workers': 10,\n",
    "    'n_ps': 1,\n",
    "    'worker_size': 128,\n",
    "    'dataset': data_bucket,\n",
    "    'learning_rate': 0.0001,\n",
    "    'epsilon': 0.0001,\n",
    "    'progress_callback': None,\n",
    "    'timeout': 0,\n",
    "    'threshold_loss': 0,\n",
    "    'resume_model': model,\n",
    "    'key_name': 'mykey',\n",
    "    'key_path': '/home/camus/Downloads/mykey.pem',\n",
    "    'ps_username': 'ubuntu',\n",
    "    'opt_method': 'adagrad',\n",
    "    'checkpoint_model': 60,\n",
    "    'minibatch_size': 20,\n",
    "    'model_bits': 19,\n",
    "    'use_grad_threshold': False,\n",
    "    'grad_threshold': 0.001,\n",
    "    'train_set': (0,20),\n",
    "    'test_set': (21,42)\n",
    "}\n",
    "\n",
    "\n",
    "if __name__ == \"__main__\":\n",
    "    batch = []\n",
    "    index = 0\n",
    "    base_port = 1337\n",
    "    start =    0.100000\n",
    "    end =      0.000001\n",
    "    interval = 0.001\n",
    "\n",
    "        \n",
    "    machines = zip(urls, ips)\n",
    "\n",
    "    learning_rates = [0.5/i for i in range(10000, 30001, 1000)]\n",
    "\n",
    "    gs = cirrus.GridSearch(task=cirrus.Softmax,\n",
    "                           param_base=basic_params,\n",
    "                           hyper_vars=[\"learning_rate\", \"worker_size\"],\n",
    "                           hyper_params=[learning_rates, [128, 246, 512]],\n",
    "                           machines=machines)\n",
    "    gs.set_threads(10)\n",
    "    gs.run(UI=True)"
   ]
  },
  {
   "cell_type": "code",
   "execution_count": null,
   "metadata": {
    "scrolled": true
   },
   "outputs": [],
   "source": [
    "cirrus.graph.display_dash()"
   ]
  }
 ],
 "metadata": {
  "kernelspec": {
   "display_name": "Python 2",
   "language": "python",
   "name": "python2"
  },
  "language_info": {
   "codemirror_mode": {
    "name": "ipython",
    "version": 2
   },
   "file_extension": ".py",
   "mimetype": "text/x-python",
   "name": "python",
   "nbconvert_exporter": "python",
   "pygments_lexer": "ipython2",
   "version": "2.7.15"
  }
 },
 "nbformat": 4,
 "nbformat_minor": 2
}
