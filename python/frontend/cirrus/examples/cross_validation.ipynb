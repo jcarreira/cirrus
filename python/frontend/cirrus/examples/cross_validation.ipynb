{
 "cells": [
  {
   "cell_type": "markdown",
   "metadata": {},
   "source": [
    "# Cross Validation\n",
    "---\n",
    "This notebook uses Cirrus to perform cross validation on a logistic regression model."
   ]
  },
  {
   "cell_type": "markdown",
   "metadata": {},
   "source": [
    "## Setup\n",
    "---"
   ]
  },
  {
   "cell_type": "code",
   "execution_count": 1,
   "metadata": {},
   "outputs": [],
   "source": [
    "# To ease development, each time a cell is run, all modules will be reloaded.\n",
    "%load_ext autoreload\n",
    "%autoreload 2"
   ]
  },
  {
   "cell_type": "code",
   "execution_count": 2,
   "metadata": {},
   "outputs": [],
   "source": [
    "import logging\n",
    "import sys\n",
    "import atexit"
   ]
  },
  {
   "cell_type": "code",
   "execution_count": 3,
   "metadata": {},
   "outputs": [],
   "source": [
    "# Cirrus produces logs, but they will not show unless we add a handler that prints.\n",
    "from cirrus import utilities\n",
    "utilities.set_logging_handler()"
   ]
  },
  {
   "cell_type": "code",
   "execution_count": 4,
   "metadata": {},
   "outputs": [
    {
     "name": "stdout",
     "output_type": "stream",
     "text": [
      "[     _initialize | ResourceManager] Initializing no-retries Lambda client.\n",
      "[     _initialize | ResourceManager] Initializing IAM resource.\n",
      "[     _initialize | ResourceManager] Initializing EC2 resource.\n",
      "[     _initialize | ResourceManager] Initializing Cloudwatch Logs client.\n",
      "[     _initialize | ResourceManager] Initializing S3 resource.\n",
      "[     _initialize | ResourceManager] Initializing STS client.\n"
     ]
    }
   ],
   "source": [
    "from cirrus import instance, automate, lr, GridSearch, cv_utils"
   ]
  },
  {
   "cell_type": "markdown",
   "metadata": {},
   "source": [
    "## Instances, base task configuration, hyperparameters\n",
    "---"
   ]
  },
  {
   "cell_type": "markdown",
   "metadata": {},
   "source": [
    "First, we start some EC2 instances."
   ]
  },
  {
   "cell_type": "code",
   "execution_count": 5,
   "metadata": {},
   "outputs": [
    {
     "name": "stdout",
     "output_type": "stream",
     "text": [
      "[        __init__ |      MainThread] Resolving AMI owner/name to AMI ID.\n",
      "[        __init__ |      MainThread] Done.\n",
      "[         _exists |      MainThread] Listing instances.\n",
      "[         _exists |      MainThread] No existing instance with the same name was found.\n",
      "[ _start_and_wait |      MainThread] Starting a new instance.\n",
      "[ _start_and_wait |      MainThread] Waiting for instance to enter running state.\n",
      "[ _start_and_wait |      MainThread] Fetching instance metadata.\n",
      "[ _start_and_wait |      MainThread] Done.\n",
      "[           start |      MainThread] Done.\n",
      "[        __init__ |      MainThread] Resolving AMI owner/name to AMI ID.\n",
      "[        __init__ |      MainThread] Done.\n",
      "[         _exists |      MainThread] Listing instances.\n",
      "[         _exists |      MainThread] No existing instance with the same name was found.\n",
      "[ _start_and_wait |      MainThread] Starting a new instance.\n",
      "[ _start_and_wait |      MainThread] Waiting for instance to enter running state.\n",
      "[ _start_and_wait |      MainThread] Fetching instance metadata.\n",
      "[ _start_and_wait |      MainThread] Done.\n",
      "[           start |      MainThread] Done.\n"
     ]
    }
   ],
   "source": [
    "NUM_INSTANCES = 2\n",
    "\n",
    "instances = []\n",
    "for i in range(NUM_INSTANCES):\n",
    "    inst = instance.Instance(\n",
    "        name=\"hyperparameter_example_instance_%d\" % i,\n",
    "        disk_size=32,\n",
    "        typ=\"m4.2xlarge\",\n",
    "        username=\"ubuntu\",\n",
    "        ami_owner_name=(\"self\", \"cirrus_server_image\")\n",
    "    )\n",
    "    inst.start()\n",
    "    instances.append(inst)"
   ]
  },
  {
   "cell_type": "markdown",
   "metadata": {},
   "source": [
    "Second, we define the base configuration for our machine learning task."
   ]
  },
  {
   "cell_type": "code",
   "execution_count": 6,
   "metadata": {},
   "outputs": [],
   "source": [
    "base_task_config = {\n",
    "    \"n_workers\": 16,\n",
    "    \"n_ps\": 1,\n",
    "    \"dataset\": \"criteo-kaggle-19b\",\n",
    "    \"learning_rate\": 0.0001,\n",
    "    \"epsilon\": 0.0001,\n",
    "    \"progress_callback\": None,\n",
    "    \"train_set\": [(0, 799)],\n",
    "    \"test_set\": (800, 850),\n",
    "    \"minibatch_size\": 200,\n",
    "    \"model_bits\": 19,\n",
    "    \"opt_method\": \"adagrad\",\n",
    "    \"timeout\": 60,\n",
    "    \"lambda_size\": 192\n",
    "}"
   ]
  },
  {
   "cell_type": "markdown",
   "metadata": {},
   "source": [
    "Third, we identify our hyperparameters and their possible values."
   ]
  },
  {
   "cell_type": "code",
   "execution_count": 7,
   "metadata": {},
   "outputs": [
    {
     "name": "stdout",
     "output_type": "stream",
     "text": [
      "[[[[50, 99], [100, 149], [150, 199]], [[0, 49], [100, 149], [150, 199]], [[0, 49], [50, 99], [150, 199]], [[0, 49], [50, 99], [100, 149]]], [(0, 49), (50, 99), (100, 149), (150, 199)]]\n"
     ]
    }
   ],
   "source": [
    "hyperparameter_names = [\n",
    "    \"train_set\",\n",
    "    \"test_set\"\n",
    "]\n",
    "hyperparameter_values = cv_utils.create_test_train_sets(k = 4, num_sets = 200)\n",
    "print(hyperparameter_values)"
   ]
  },
  {
   "cell_type": "markdown",
   "metadata": {},
   "source": [
    "All of the above defines a hyperparameter optimization task, which consists of one machine learning task per assignment of values to the hyperparameters."
   ]
  },
  {
   "cell_type": "code",
   "execution_count": 8,
   "metadata": {},
   "outputs": [
    {
     "name": "stdout",
     "output_type": "stream",
     "text": [
      "[([[50, 99], [100, 149], [150, 199]], (0, 49)), ([[0, 49], [100, 149], [150, 199]], (50, 99)), ([[0, 49], [50, 99], [150, 199]], (100, 149)), ([[0, 49], [50, 99], [100, 149]], (150, 199))]\n"
     ]
    }
   ],
   "source": [
    "search = GridSearch(\n",
    "    task=lr.LogisticRegression,\n",
    "    param_base=base_task_config,\n",
    "    hyper_vars=hyperparameter_names,\n",
    "    hyper_params=hyperparameter_values,\n",
    "    instances=instances,\n",
    "    cross_validation=True\n",
    ")"
   ]
  },
  {
   "cell_type": "markdown",
   "metadata": {},
   "source": [
    "## Run\n",
    "---"
   ]
  },
  {
   "cell_type": "markdown",
   "metadata": {},
   "source": [
    "Next, we run our hyperparameter optimization task."
   ]
  },
  {
   "cell_type": "code",
   "execution_count": 9,
   "metadata": {},
   "outputs": [
    {
     "name": "stdout",
     "output_type": "stream",
     "text": [
      "[get_available_concurrency |      MainThread] Getting account settings.\n",
      "[get_available_concurrency |      MainThread] Done.\n",
      "(0, 49)\n",
      "[           start |      MainThread] Uploading configuration.\n",
      "[           start |      MainThread] Starting parameter server.\n",
      "[           start |      MainThread] Starting error task.\n",
      "(50, 99)\n",
      "[           start |      MainThread] Uploading configuration.\n",
      "[           start |      MainThread] Starting parameter server.\n",
      "[           start |      MainThread] Starting error task.\n",
      "[wait_until_started |        Thread-8] Making connection attempt #1 to ParameterServer@34.212.25.110:1337.\n",
      "(100, 149)\n",
      "[           start |      MainThread] Uploading configuration.\n",
      "[           start |      MainThread] Starting parameter server.\n",
      "[           start |      MainThread] Starting error task.\n",
      "[wait_until_started |        Thread-9] Making connection attempt #1 to ParameterServer@35.165.68.50:1339.\n",
      "(150, 199)\n",
      "[           start |      MainThread] Uploading configuration.\n",
      "[           start |      MainThread] Starting parameter server.\n",
      "[           start |      MainThread] Starting error task.\n",
      "[wait_until_started |       Thread-10] Making connection attempt #1 to ParameterServer@34.212.25.110:1341.\n",
      "[wait_until_started |       Thread-11] Making connection attempt #1 to ParameterServer@35.165.68.50:1343.\n",
      "[     run_command |       Thread-12] Calling _connect_ssh.\n",
      "[    _connect_ssh |       Thread-12] Configuring.\n",
      "[    _connect_ssh |       Thread-12] Making connection attempt #1 out of 35.\n",
      "[     run_command |       Thread-13] Calling _connect_ssh.\n",
      "[    _connect_ssh |       Thread-13] Configuring.\n",
      "[    _connect_ssh |       Thread-13] Making connection attempt #1 out of 35.\n",
      "[     run_command |       Thread-12] Running `echo 'load_input_path: /mnt/efs/criteo_kaggle/train.csv \n",
      "load_input_type: csv\n",
      "num_classes: 2 \n",
      "num_features: 13 \n",
      "limit_cols: 14 \n",
      "normalize: 0 \n",
      "limit_samples: 10000 \n",
      "s3_size: 50000 \n",
      "use_bias: 1 \n",
      "model_type: LogisticRegression \n",
      "minibatch_size: 200 \n",
      "learning_rate: 0.000100 \n",
      "epsilon: 0.000100 \n",
      "model_bits: 19 \n",
      "dataset_format: binary \n",
      "s3_bucket: criteo-kaggle-19b \n",
      "use_grad_threshold: 0 \n",
      "grad_threshold: 0.001000 \n",
      "train_set: 50-99,100-149,150-199 \n",
      "test_set: 0-49' > config_1337.txt\n",
      "ulimit -c unlimited; nohup ./parameter_server --config config_1337.txt --nworkers 16 --rank 1 --ps_port 1337 &> ps_out_1337 & echo $! > ps_1337.pid\n",
      "ulimit -c unlimited; nohup ./parameter_server --config config_1337.txt --nworkers 16 --rank 2 --ps_ip 172.31.21.235 --ps_port 1337 &> error_out_1337 & echo $! > error_1337.pid\n",
      "echo 'load_input_path: /mnt/efs/criteo_kaggle/train.csv \n",
      "load_input_type: csv\n",
      "num_classes: 2 \n",
      "num_features: 13 \n",
      "limit_cols: 14 \n",
      "normalize: 0 \n",
      "limit_samples: 10000 \n",
      "s3_size: 50000 \n",
      "use_bias: 1 \n",
      "model_type: LogisticRegression \n",
      "minibatch_size: 200 \n",
      "learning_rate: 0.000100 \n",
      "epsilon: 0.000100 \n",
      "model_bits: 19 \n",
      "dataset_format: binary \n",
      "s3_bucket: criteo-kaggle-19b \n",
      "use_grad_threshold: 0 \n",
      "grad_threshold: 0.001000 \n",
      "train_set: 0-49,50-99,150-199 \n",
      "test_set: 100-149' > config_1341.txt\n",
      "ulimit -c unlimited; nohup ./parameter_server --config config_1341.txt --nworkers 16 --rank 1 --ps_port 1341 &> ps_out_1341 & echo $! > ps_1341.pid\n",
      "ulimit -c unlimited; nohup ./parameter_server --config config_1341.txt --nworkers 16 --rank 2 --ps_ip 172.31.21.235 --ps_port 1341 &> error_out_1341 & echo $! > error_1341.pid`.\n",
      "[     run_command |       Thread-12] Waiting for completion.\n",
      "[     run_command |       Thread-12] Fetching stdout and stderr.\n",
      "[     run_command |       Thread-12] stdout had length 0.\n",
      "[     run_command |       Thread-12] stderr had length 0.\n",
      "[     run_command |       Thread-12] Exit code was 0.\n",
      "[     run_command |       Thread-12] Done.\n",
      "[    _connect_ssh |       Thread-13] Connection attempt timed out after 3s.\n",
      "[    _connect_ssh |       Thread-13] Making connection attempt #2 out of 35.\n",
      "[    _connect_ssh |       Thread-13] Connection attempt failed. Sleeping for 3s.\n",
      "[wait_until_started |        Thread-8] Making connection attempt #2 to ParameterServer@34.212.25.110:1337.\n",
      "[wait_until_started |        Thread-9] Making connection attempt #2 to ParameterServer@35.165.68.50:1339.\n",
      "[wait_until_started |        Thread-8] ParameterServer@34.212.25.110:1337 launched.\n",
      "(0, 49)\n",
      "[     make_lambda |        Thread-8] Deleting any existing Lambda.\n",
      "[wait_until_started |       Thread-10] Making connection attempt #2 to ParameterServer@34.212.25.110:1341.\n",
      "[wait_until_started |       Thread-11] Making connection attempt #2 to ParameterServer@35.165.68.50:1343.\n",
      "[wait_until_started |       Thread-10] ParameterServer@34.212.25.110:1341 launched.\n",
      "(100, 149)\n",
      "[     make_lambda |       Thread-10] Deleting any existing Lambda.\n",
      "[     make_lambda |        Thread-8] Copying package to user's bucket.\n",
      "[ get_bucket_name |        Thread-8] Retreiving account ID.\n",
      "[     make_lambda |       Thread-10] Copying package to user's bucket.\n",
      "[ get_bucket_name |       Thread-10] Retreiving account ID.\n",
      "[    _connect_ssh |       Thread-13] Making connection attempt #3 out of 35.\n",
      "[     make_lambda |        Thread-8] Creating Lambda.\n",
      "[wait_until_started |        Thread-9] Making connection attempt #3 to ParameterServer@35.165.68.50:1339.\n",
      "[wait_until_started |       Thread-11] Making connection attempt #3 to ParameterServer@35.165.68.50:1343.\n",
      "[     make_lambda |       Thread-10] Creating Lambda.\n",
      "[    _connect_ssh |       Thread-13] Connection attempt timed out after 3s.\n",
      "[    _connect_ssh |       Thread-13] Making connection attempt #4 out of 35.\n",
      "[     run_command |       Thread-13] Running `echo 'load_input_path: /mnt/efs/criteo_kaggle/train.csv \n",
      "load_input_type: csv\n",
      "num_classes: 2 \n",
      "num_features: 13 \n",
      "limit_cols: 14 \n",
      "normalize: 0 \n",
      "limit_samples: 10000 \n",
      "s3_size: 50000 \n",
      "use_bias: 1 \n",
      "model_type: LogisticRegression \n",
      "minibatch_size: 200 \n",
      "learning_rate: 0.000100 \n",
      "epsilon: 0.000100 \n",
      "model_bits: 19 \n",
      "dataset_format: binary \n",
      "s3_bucket: criteo-kaggle-19b \n",
      "use_grad_threshold: 0 \n",
      "grad_threshold: 0.001000 \n",
      "train_set: 0-49,100-149,150-199 \n",
      "test_set: 50-99' > config_1339.txt\n",
      "ulimit -c unlimited; nohup ./parameter_server --config config_1339.txt --nworkers 16 --rank 1 --ps_port 1339 &> ps_out_1339 & echo $! > ps_1339.pid\n",
      "ulimit -c unlimited; nohup ./parameter_server --config config_1339.txt --nworkers 16 --rank 2 --ps_ip 172.31.19.41 --ps_port 1339 &> error_out_1339 & echo $! > error_1339.pid\n",
      "echo 'load_input_path: /mnt/efs/criteo_kaggle/train.csv \n",
      "load_input_type: csv\n",
      "num_classes: 2 \n",
      "num_features: 13 \n",
      "limit_cols: 14 \n",
      "normalize: 0 \n",
      "limit_samples: 10000 \n",
      "s3_size: 50000 \n",
      "use_bias: 1 \n",
      "model_type: LogisticRegression \n",
      "minibatch_size: 200 \n",
      "learning_rate: 0.000100 \n",
      "epsilon: 0.000100 \n",
      "model_bits: 19 \n",
      "dataset_format: binary \n",
      "s3_bucket: criteo-kaggle-19b \n",
      "use_grad_threshold: 0 \n",
      "grad_threshold: 0.001000 \n",
      "train_set: 0-49,50-99,100-149 \n",
      "test_set: 150-199' > config_1343.txt\n",
      "ulimit -c unlimited; nohup ./parameter_server --config config_1343.txt --nworkers 16 --rank 1 --ps_port 1343 &> ps_out_1343 & echo $! > ps_1343.pid\n",
      "ulimit -c unlimited; nohup ./parameter_server --config config_1343.txt --nworkers 16 --rank 2 --ps_ip 172.31.19.41 --ps_port 1343 &> error_out_1343 & echo $! > error_1343.pid`.\n",
      "[     run_command |       Thread-13] Waiting for completion.\n",
      "[     run_command |       Thread-13] Fetching stdout and stderr.\n",
      "[     run_command |       Thread-13] stdout had length 0.\n",
      "[     run_command |       Thread-13] stderr had length 0.\n",
      "[     run_command |       Thread-13] Exit code was 0.\n",
      "[     run_command |       Thread-13] Done.\n",
      "[     make_lambda |        Thread-8] Allocating reserved concurrent executions to the Lambda.\n",
      "[     make_lambda |        Thread-8] Done.\n",
      "[           new_f | Exp #00 Wkr #00] jittery_exponential_backoff: Making attempt #1.\n",
      "[   launch_worker | Exp #00 Wkr #00] Launching Task 0.\n",
      "[           new_f | Exp #00 Wkr #01] jittery_exponential_backoff: Making attempt #1.\n",
      "[   launch_worker | Exp #00 Wkr #01] Launching Task 10000.\n",
      "[           new_f | Exp #00 Wkr #02] jittery_exponential_backoff: Making attempt #1.\n",
      "[   launch_worker | Exp #00 Wkr #02] Launching Task 20000.\n",
      "[           new_f | Exp #00 Wkr #03] jittery_exponential_backoff: Making attempt #1.\n",
      "[   launch_worker | Exp #00 Wkr #03] Launching Task 30000.\n",
      "[           new_f | Exp #00 Wkr #04] jittery_exponential_backoff: Making attempt #1.\n"
     ]
    },
    {
     "name": "stdout",
     "output_type": "stream",
     "text": [
      "[   launch_worker | Exp #00 Wkr #04] Launching Task 40000.\n",
      "[           new_f | Exp #00 Wkr #05] jittery_exponential_backoff: Making attempt #1.\n",
      "[   launch_worker | Exp #00 Wkr #05] Launching Task 50000.\n",
      "[           new_f | Exp #00 Wkr #06] jittery_exponential_backoff: Making attempt #1.\n",
      "[   launch_worker | Exp #00 Wkr #06] Launching Task 60000.\n",
      "[           new_f | Exp #00 Wkr #08] jittery_exponential_backoff: Making attempt #1.\n",
      "[   launch_worker | Exp #00 Wkr #08] Launching Task 80000.\n",
      "[           new_f | Exp #00 Wkr #10] jittery_exponential_backoff: Making attempt #1.\n",
      "[   launch_worker | Exp #00 Wkr #10] Launching Task 100000.\n",
      "[           new_f | Exp #00 Wkr #12] jittery_exponential_backoff: Making attempt #1.\n",
      "[   launch_worker | Exp #00 Wkr #12] Launching Task 120000.\n",
      "[     make_lambda |       Thread-10] Allocating reserved concurrent executions to the Lambda.\n",
      "[           new_f | Exp #00 Wkr #14] jittery_exponential_backoff: Making attempt #1.\n",
      "[   launch_worker | Exp #00 Wkr #14] Launching Task 140000.\n",
      "[           new_f | Exp #00 Wkr #07] jittery_exponential_backoff: Making attempt #1.\n",
      "[   launch_worker | Exp #00 Wkr #07] Launching Task 70000.\n",
      "[           new_f | Exp #00 Wkr #11] jittery_exponential_backoff: Making attempt #1.\n",
      "[   launch_worker | Exp #00 Wkr #11] Launching Task 110000.\n",
      "[           new_f | Exp #00 Wkr #15] jittery_exponential_backoff: Making attempt #1.\n",
      "[   launch_worker | Exp #00 Wkr #15] Launching Task 150000.\n",
      "[           new_f | Exp #00 Wkr #09] jittery_exponential_backoff: Making attempt #1.\n",
      "[           new_f | Exp #00 Wkr #13] jittery_exponential_backoff: Making attempt #1.\n",
      "[   launch_worker | Exp #00 Wkr #13] Launching Task 130000.\n",
      "[   launch_worker | Exp #00 Wkr #09] Launching Task 90000.\n",
      "[     make_lambda |       Thread-10] Done.\n",
      "[           new_f | Exp #02 Wkr #2000] jittery_exponential_backoff: Making attempt #1.\n",
      "[           new_f | Exp #02 Wkr #2001] jittery_exponential_backoff: Making attempt #1.\n",
      "[           new_f | Exp #02 Wkr #2002] jittery_exponential_backoff: Making attempt #1.\n",
      "[   launch_worker | Exp #02 Wkr #2002] Launching Task 20020000.\n",
      "[           new_f | Exp #02 Wkr #2004] jittery_exponential_backoff: Making attempt #1.\n",
      "[   launch_worker | Exp #02 Wkr #2004] Launching Task 20040000.\n",
      "[           new_f | Exp #02 Wkr #2006] jittery_exponential_backoff: Making attempt #1.\n",
      "[   launch_worker | Exp #02 Wkr #2006] Launching Task 20060000.\n",
      "[           new_f | Exp #02 Wkr #2007] jittery_exponential_backoff: Making attempt #1.\n",
      "[   launch_worker | Exp #02 Wkr #2007] Launching Task 20070000.\n",
      "[           new_f | Exp #02 Wkr #2009] jittery_exponential_backoff: Making attempt #1.\n",
      "[   launch_worker | Exp #02 Wkr #2009] Launching Task 20090000.\n",
      "[           new_f | Exp #02 Wkr #2011] jittery_exponential_backoff: Making attempt #1.\n",
      "[   launch_worker | Exp #02 Wkr #2011] Launching Task 20110000.\n",
      "[           new_f | Exp #02 Wkr #2012] jittery_exponential_backoff: Making attempt #1.\n",
      "[   launch_worker | Exp #02 Wkr #2012] Launching Task 20120000.\n",
      "[           new_f | Exp #02 Wkr #2003] jittery_exponential_backoff: Making attempt #1.\n",
      "[   launch_worker | Exp #02 Wkr #2003] Launching Task 20030000.\n",
      "[           new_f | Exp #02 Wkr #2015] jittery_exponential_backoff: Making attempt #1.\n",
      "[   launch_worker | Exp #02 Wkr #2015] Launching Task 20150000.\n",
      "[   launch_worker | Exp #02 Wkr #2000] Launching Task 20000000.\n",
      "[           new_f | Exp #02 Wkr #2008] jittery_exponential_backoff: Making attempt #1.\n",
      "[   launch_worker | Exp #02 Wkr #2008] Launching Task 20080000.\n",
      "[   launch_worker | Exp #02 Wkr #2001] Launching Task 20010000.\n",
      "[           new_f | Exp #02 Wkr #2013] jittery_exponential_backoff: Making attempt #1.\n",
      "[   launch_worker | Exp #02 Wkr #2013] Launching Task 20130000.\n",
      "[           new_f | Exp #02 Wkr #2005] jittery_exponential_backoff: Making attempt #1.\n",
      "[   launch_worker | Exp #02 Wkr #2005] Launching Task 20050000.\n",
      "[wait_until_started |        Thread-9] Making connection attempt #4 to ParameterServer@35.165.68.50:1339.\n",
      "[wait_until_started |       Thread-11] Making connection attempt #4 to ParameterServer@35.165.68.50:1343.\n",
      "[           new_f | Exp #02 Wkr #2014] jittery_exponential_backoff: Making attempt #1.\n",
      "[   launch_worker | Exp #02 Wkr #2014] Launching Task 20140000.\n",
      "[wait_until_started |        Thread-9] ParameterServer@35.165.68.50:1339 launched.\n",
      "(50, 99)\n",
      "[     make_lambda |        Thread-9] Deleting any existing Lambda.\n",
      "[wait_until_started |       Thread-11] ParameterServer@35.165.68.50:1343 launched.\n",
      "(150, 199)\n",
      "[     make_lambda |       Thread-11] Deleting any existing Lambda.\n",
      "[           new_f | Exp #02 Wkr #2010] jittery_exponential_backoff: Making attempt #1.\n",
      "[   launch_worker | Exp #02 Wkr #2010] Launching Task 20100000.\n",
      "[     make_lambda |        Thread-9] Copying package to user's bucket.\n",
      "[ get_bucket_name |        Thread-9] Retreiving account ID.\n",
      "[     make_lambda |       Thread-11] Copying package to user's bucket.\n",
      "[ get_bucket_name |       Thread-11] Retreiving account ID.\n",
      "[     make_lambda |       Thread-11] Creating Lambda.\n"
     ]
    }
   ],
   "source": [
    "search.run()"
   ]
  },
  {
   "cell_type": "markdown",
   "metadata": {},
   "source": [
    "Run this cell to see the present accuracy of experiment `I`."
   ]
  },
  {
   "cell_type": "code",
   "execution_count": 11,
   "metadata": {},
   "outputs": [
    {
     "name": "stdout",
     "output_type": "stream",
     "text": [
      "[     run_command |      MainThread] Running `cat error_out_1337`.\n",
      "[     run_command |      MainThread] Waiting for completion.\n",
      "[     run_command |      MainThread] Fetching stdout and stderr.\n",
      "[     run_command |      MainThread] stdout had length 13983.\n",
      "[     run_command |      MainThread] stderr had length 0.\n",
      "[     run_command |      MainThread] Exit code was 0.\n",
      "[     run_command |      MainThread] Done.\n",
      "[     run_command |      MainThread] Running `cat error_out_1339`.\n",
      "[     run_command |      MainThread] Waiting for completion.\n",
      "[     run_command |      MainThread] Fetching stdout and stderr.\n",
      "[     run_command |      MainThread] stdout had length 13127.\n",
      "[     run_command |      MainThread] stderr had length 0.\n",
      "[     run_command |      MainThread] Exit code was 0.\n",
      "[     run_command |      MainThread] Done.\n",
      "[     run_command |      MainThread] Running `cat error_out_1341`.\n",
      "[     run_command |      MainThread] Waiting for completion.\n",
      "[     run_command |      MainThread] Fetching stdout and stderr.\n",
      "[     run_command |      MainThread] stdout had length 13849.\n",
      "[     run_command |      MainThread] stderr had length 0.\n",
      "[     run_command |      MainThread] Exit code was 0.\n",
      "[     run_command |      MainThread] Done.\n",
      "[     run_command |      MainThread] Running `cat error_out_1343`.\n",
      "[     run_command |      MainThread] Waiting for completion.\n",
      "[     run_command |      MainThread] Fetching stdout and stderr.\n",
      "[     run_command |      MainThread] stdout had length 13178.\n",
      "[     run_command |      MainThread] stderr had length 0.\n",
      "[     run_command |      MainThread] Exit code was 0.\n",
      "[     run_command |      MainThread] Done.\n",
      "0.7452355\n"
     ]
    }
   ],
   "source": [
    "print(cv_utils.get_cv_acc(search.cirrus_objs))"
   ]
  },
  {
   "cell_type": "markdown",
   "metadata": {},
   "source": [
    "## Cleanup\n",
    "---"
   ]
  },
  {
   "cell_type": "markdown",
   "metadata": {},
   "source": [
    "When we're satisfied with the results, we kill our task."
   ]
  },
  {
   "cell_type": "code",
   "execution_count": 12,
   "metadata": {},
   "outputs": [
    {
     "name": "stdout",
     "output_type": "stream",
     "text": [
      "[   delete_lambda | Exp #00 Cleanup] Deleting Lambda function cirrus_worker_0_2019-3-8_15-9-52-891777.\n",
      "[     run_command |      MainThread] Running `kill -n 9 $(cat error_1337.pid)`.\n",
      "[     run_command |      MainThread] Waiting for completion.\n",
      "[     run_command |      MainThread] Fetching stdout and stderr.\n",
      "[     run_command |      MainThread] stdout had length 0.\n",
      "[     run_command |      MainThread] stderr had length 0.\n",
      "[     run_command |      MainThread] Exit code was 0.\n",
      "[     run_command |      MainThread] Done.\n",
      "[     run_command |      MainThread] Running `kill -n 9 $(cat ps_1337.pid)`.\n",
      "[     run_command |      MainThread] Waiting for completion.\n",
      "[     run_command |      MainThread] Fetching stdout and stderr.\n",
      "[     run_command |      MainThread] stdout had length 0.\n",
      "[     run_command |      MainThread] stderr had length 0.\n",
      "[     run_command |      MainThread] Exit code was 0.\n",
      "[     run_command |      MainThread] Done.\n",
      "[   launch_worker | Exp #00 Wkr #05] Task 50000 completed with status code 200.\n",
      "[   launch_worker | Exp #00 Wkr #14] Task 140000 completed with status code 200.\n",
      "[   launch_worker | Exp #00 Wkr #15] Task 150000 completed with status code 200.\n",
      "[   launch_worker | Exp #00 Wkr #13] Task 130000 completed with status code 200.\n",
      "[   launch_worker | Exp #00 Wkr #11] Task 110000 completed with status code 200.\n",
      "[   launch_worker | Exp #00 Wkr #07] Task 70000 completed with status code 200.\n",
      "[   launch_worker | Exp #00 Wkr #10] Task 100000 completed with status code 200.\n",
      "[   launch_worker | Exp #00 Wkr #12] Task 120000 completed with status code 200.\n",
      "[   launch_worker | Exp #00 Wkr #06] Task 60000 completed with status code 200.\n",
      "[   launch_worker | Exp #00 Wkr #01] Task 10000 completed with status code 200.\n",
      "[   launch_worker | Exp #00 Wkr #09] Task 90000 completed with status code 200.\n",
      "[   launch_worker | Exp #00 Wkr #02] Task 20000 completed with status code 200.\n",
      "[   launch_worker | Exp #00 Wkr #03] Task 30000 completed with status code 200.\n",
      "[   launch_worker | Exp #00 Wkr #04] Task 40000 completed with status code 200.\n",
      "[   launch_worker | Exp #00 Wkr #08] Task 80000 completed with status code 200.\n",
      "[   launch_worker | Exp #00 Wkr #00] Task 0 completed with status code 200.\n",
      "[     run_command |      MainThread] Running `kill -n 9 $(cat error_1339.pid)`.\n",
      "[   delete_lambda | Exp #01 Cleanup] Deleting Lambda function cirrus_worker_1_2019-3-8_15-10-3-510184.\n",
      "[     run_command |      MainThread] Waiting for completion.\n",
      "[     run_command |      MainThread] Fetching stdout and stderr.\n",
      "[     run_command |      MainThread] stdout had length 0.\n",
      "[     run_command |      MainThread] stderr had length 0.\n",
      "[     run_command |      MainThread] Exit code was 0.\n",
      "[     run_command |      MainThread] Done.\n",
      "[     run_command |      MainThread] Running `kill -n 9 $(cat ps_1339.pid)`.\n",
      "[     run_command |      MainThread] Waiting for completion.\n",
      "[     run_command |      MainThread] Fetching stdout and stderr.\n",
      "[     run_command |      MainThread] stdout had length 0.\n",
      "[     run_command |      MainThread] stderr had length 0.\n",
      "[     run_command |      MainThread] Exit code was 0.\n",
      "[     run_command |      MainThread] Done.\n",
      "[   launch_worker | Exp #01 Wkr #1003] Task 10030000 completed with status code 200.\n",
      "[   launch_worker | Exp #01 Wkr #1001] Task 10010000 completed with status code 200.\n",
      "[   launch_worker | Exp #01 Wkr #1015] Task 10150000 completed with status code 200.\n",
      "[   launch_worker | Exp #01 Wkr #1002] Task 10020000 completed with status code 200.\n",
      "[   launch_worker | Exp #01 Wkr #1012] Task 10120000 completed with status code 200.\n",
      "[   launch_worker | Exp #01 Wkr #1005] Task 10050000 completed with status code 200.\n",
      "[   launch_worker | Exp #01 Wkr #1007] Task 10070000 completed with status code 200.\n",
      "[   launch_worker | Exp #01 Wkr #1009] Task 10090000 completed with status code 200.\n",
      "[   launch_worker | Exp #01 Wkr #1008] Task 10080000 completed with status code 200.\n",
      "[   launch_worker | Exp #01 Wkr #1004] Task 10040000 completed with status code 200.\n",
      "[   launch_worker | Exp #01 Wkr #1010] Task 10100000 completed with status code 200.\n",
      "[   launch_worker | Exp #01 Wkr #1006] Task 10060000 completed with status code 200.\n",
      "[   launch_worker | Exp #01 Wkr #1013] Task 10130000 completed with status code 200.\n",
      "[   launch_worker | Exp #01 Wkr #1000] Task 10000000 completed with status code 200.\n",
      "[   launch_worker | Exp #01 Wkr #1014] Task 10140000 completed with status code 200.\n",
      "[   launch_worker | Exp #01 Wkr #1011] Task 10110000 completed with status code 200.\n",
      "[     run_command |      MainThread] Running `kill -n 9 $(cat error_1341.pid)`.\n",
      "[   delete_lambda | Exp #02 Cleanup] Deleting Lambda function cirrus_worker_2_2019-3-8_15-9-52-957992.\n",
      "[     run_command |      MainThread] Waiting for completion.\n",
      "[     run_command |      MainThread] Fetching stdout and stderr.\n",
      "[     run_command |      MainThread] stdout had length 0.\n",
      "[     run_command |      MainThread] stderr had length 0.\n",
      "[     run_command |      MainThread] Exit code was 0.\n",
      "[     run_command |      MainThread] Done.\n",
      "[     run_command |      MainThread] Running `kill -n 9 $(cat ps_1341.pid)`.\n",
      "[     run_command |      MainThread] Waiting for completion.\n",
      "[     run_command |      MainThread] Fetching stdout and stderr.\n",
      "[     run_command |      MainThread] stdout had length 0.\n",
      "[     run_command |      MainThread] stderr had length 0.\n",
      "[     run_command |      MainThread] Exit code was 0.\n",
      "[     run_command |      MainThread] Done.\n",
      "[   launch_worker | Exp #02 Wkr #2006] Task 20060000 completed with status code 200.\n",
      "[   launch_worker | Exp #02 Wkr #2012] Task 20120000 completed with status code 200.\n",
      "[   launch_worker | Exp #02 Wkr #2011] Task 20110000 completed with status code 200.\n",
      "[   launch_worker | Exp #02 Wkr #2015] Task 20150000 completed with status code 200.\n",
      "[   launch_worker | Exp #02 Wkr #2005] Task 20050000 completed with status code 200.\n",
      "[   launch_worker | Exp #02 Wkr #2013] Task 20130000 completed with status code 200.\n",
      "[   launch_worker | Exp #02 Wkr #2003] Task 20030000 completed with status code 200.\n",
      "[   launch_worker | Exp #02 Wkr #2004] Task 20040000 completed with status code 200.\n",
      "[   launch_worker | Exp #02 Wkr #2014] Task 20140000 completed with status code 200.\n",
      "[   launch_worker | Exp #02 Wkr #2009] Task 20090000 completed with status code 200.\n",
      "[   launch_worker | Exp #02 Wkr #2001] Task 20010000 completed with status code 200.\n",
      "[   launch_worker | Exp #02 Wkr #2010] Task 20100000 completed with status code 200.\n",
      "[   launch_worker | Exp #02 Wkr #2000] Task 20000000 completed with status code 200.\n",
      "[   launch_worker | Exp #02 Wkr #2002] Task 20020000 completed with status code 200.\n",
      "[   launch_worker | Exp #02 Wkr #2007] Task 20070000 completed with status code 200.\n",
      "[   launch_worker | Exp #02 Wkr #2008] Task 20080000 completed with status code 200.\n",
      "[     run_command |      MainThread] Running `kill -n 9 $(cat error_1343.pid)`.\n",
      "[   delete_lambda | Exp #03 Cleanup] Deleting Lambda function cirrus_worker_3_2019-3-8_15-10-3-563255.\n",
      "[     run_command |      MainThread] Waiting for completion.\n",
      "[     run_command |      MainThread] Fetching stdout and stderr.\n",
      "[     run_command |      MainThread] stdout had length 0.\n",
      "[     run_command |      MainThread] stderr had length 0.\n",
      "[     run_command |      MainThread] Exit code was 0.\n",
      "[     run_command |      MainThread] Done.\n",
      "[     run_command |      MainThread] Running `kill -n 9 $(cat ps_1343.pid)`.\n",
      "[     run_command |      MainThread] Waiting for completion.\n",
      "[     run_command |      MainThread] Fetching stdout and stderr.\n",
      "[     run_command |      MainThread] stdout had length 0.\n",
      "[     run_command |      MainThread] stderr had length 0.\n",
      "[     run_command |      MainThread] Exit code was 0.\n",
      "[     run_command |      MainThread] Done.\n",
      "[   launch_worker | Exp #03 Wkr #3000] Task 30000000 completed with status code 200.\n",
      "[   launch_worker | Exp #03 Wkr #3003] Task 30030000 completed with status code 200.\n",
      "[   launch_worker | Exp #03 Wkr #3009] Task 30090000 completed with status code 200.\n",
      "[   launch_worker | Exp #03 Wkr #3002] Task 30020000 completed with status code 200.\n",
      "[   launch_worker | Exp #03 Wkr #3012] Task 30120000 completed with status code 200.\n",
      "[   launch_worker | Exp #03 Wkr #3004] Task 30040000 completed with status code 200.\n"
     ]
    },
    {
     "name": "stdout",
     "output_type": "stream",
     "text": [
      "[   launch_worker | Exp #03 Wkr #3015] Task 30150000 completed with status code 200.\n",
      "[   launch_worker | Exp #03 Wkr #3011] Task 30110000 completed with status code 200.\n",
      "[   launch_worker | Exp #03 Wkr #3014] Task 30140000 completed with status code 200.\n",
      "[   launch_worker | Exp #03 Wkr #3013] Task 30130000 completed with status code 200.\n",
      "[   launch_worker | Exp #03 Wkr #3005] Task 30050000 completed with status code 200.\n",
      "[   launch_worker | Exp #03 Wkr #3006] Task 30060000 completed with status code 200.\n",
      "[   launch_worker | Exp #03 Wkr #3007] Task 30070000 completed with status code 200.\n",
      "[   launch_worker | Exp #03 Wkr #3001] Task 30010000 completed with status code 200.\n",
      "[   launch_worker | Exp #03 Wkr #3010] Task 30100000 completed with status code 200.\n",
      "[   launch_worker | Exp #03 Wkr #3008] Task 30080000 completed with status code 200.\n"
     ]
    }
   ],
   "source": [
    "search.kill_all()"
   ]
  },
  {
   "cell_type": "markdown",
   "metadata": {},
   "source": [
    "We also need to terminate our instances in order to avoid continuing charges."
   ]
  },
  {
   "cell_type": "code",
   "execution_count": null,
   "metadata": {},
   "outputs": [
    {
     "name": "stdout",
     "output_type": "stream",
     "text": [
      "[         cleanup |      MainThread] Closing SSH client.\n",
      "[         cleanup |      MainThread] Terminating instance.\n",
      "[         cleanup |      MainThread] Waiting for instance to terminate.\n",
      "[         cleanup |      MainThread] Done.\n",
      "[         cleanup |      MainThread] Closing SSH client.\n",
      "[         cleanup |      MainThread] Terminating instance.\n",
      "[         cleanup |      MainThread] Waiting for instance to terminate.\n"
     ]
    }
   ],
   "source": [
    "for inst in instances:\n",
    "    inst.cleanup()"
   ]
  },
  {
   "cell_type": "markdown",
   "metadata": {},
   "source": [
    "If a cell errors, running this should clean up any resources that were created. After running this cell, the kernel will become unusable and need to be restarted."
   ]
  },
  {
   "cell_type": "code",
   "execution_count": null,
   "metadata": {},
   "outputs": [],
   "source": [
    "atexit._run_exitfuncs()"
   ]
  },
  {
   "cell_type": "code",
   "execution_count": null,
   "metadata": {},
   "outputs": [],
   "source": []
  }
 ],
 "metadata": {
  "kernelspec": {
   "display_name": "Python 2",
   "language": "python",
   "name": "python2"
  },
  "language_info": {
   "codemirror_mode": {
    "name": "ipython",
    "version": 2
   },
   "file_extension": ".py",
   "mimetype": "text/x-python",
   "name": "python",
   "nbconvert_exporter": "python",
   "pygments_lexer": "ipython2",
   "version": "2.7.15"
  }
 },
 "nbformat": 4,
 "nbformat_minor": 2
}
